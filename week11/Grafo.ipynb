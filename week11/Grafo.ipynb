{
  "nbformat": 4,
  "nbformat_minor": 0,
  "metadata": {
    "colab": {
      "provenance": []
    },
    "kernelspec": {
      "name": "python3",
      "display_name": "Python 3"
    },
    "language_info": {
      "name": "python"
    }
  },
  "cells": [
    {
      "cell_type": "code",
      "execution_count": null,
      "metadata": {
        "id": "vm0r3qXtRIFe"
      },
      "outputs": [],
      "source": [
        "!pip install wikipedia"
      ]
    },
    {
      "cell_type": "code",
      "source": [
        "import networkx as nx\n",
        "import wikipedia\n",
        "\n",
        "def generate_wikipedia_network(seed_pages, depth=1):\n",
        "    graph = nx.DiGraph()\n",
        "\n",
        "    def get_page_links(page_title):\n",
        "        try:\n",
        "            print(f\"Fetching links for: {page_title}\")\n",
        "            page = wikipedia.page(page_title)\n",
        "            links = page.links\n",
        "            return links\n",
        "        except wikipedia.exceptions.DisambiguationError as e:\n",
        "            return [e.options[0]]\n",
        "        except wikipedia.exceptions.PageError:\n",
        "            return []\n",
        "\n",
        "    def add_nodes_and_edges(parent_node, depth):\n",
        "        if depth > 0:\n",
        "            links = get_page_links(parent_node)\n",
        "            for link in links:\n",
        "                print(f\"Adding node: {link}\")\n",
        "                graph.add_node(link)\n",
        "                graph.add_edge(parent_node, link)\n",
        "                add_nodes_and_edges(link, depth - 1)\n",
        "\n",
        "    for seed_page in seed_pages:\n",
        "        print(f\"Adding seed node: {seed_page}\")\n",
        "        graph.add_node(seed_page)\n",
        "        add_nodes_and_edges(seed_page, depth)\n",
        "\n",
        "    return graph\n",
        "\n",
        "# Specify seed pages\n",
        "seed_pages = ['Python (programming language)', 'Ruby (programming language)', 'Rust (programming language)', 'Go (programming language)']\n",
        "\n",
        "# Set depth limit to 1 (layers 0 and 1)\n",
        "depth_limit = 1\n",
        "\n",
        "# Generate Wikipedia network\n",
        "print(\"Generating Wikipedia Network...\")\n",
        "wikipedia_network = generate_wikipedia_network(seed_pages, depth_limit)\n",
        "\n",
        "# Export the graph to GEXF format\n",
        "gexf_filename = \"/content/wikipedia_network.gexf\"\n",
        "nx.write_gexf(wikipedia_network, gexf_filename)\n",
        "\n",
        "\n",
        "# Calculate k-core and k-shell\n",
        "k_core_values = nx.core_number(wikipedia_network)\n",
        "\n",
        "# Add k-core and k-shell attributes to nodes\n",
        "nx.set_node_attributes(wikipedia_network, k_core_values, 'k_core')\n",
        "\n",
        "# Manually calculate k-shell values\n",
        "k_shell_values = dict()\n",
        "for node in wikipedia_network.nodes():\n",
        "    k_shell_values[node] = len(list(nx.ego_graph(wikipedia_network, node, undirected=True).nodes()))\n",
        "\n",
        "# Add k-shell attributes to nodes\n",
        "nx.set_node_attributes(wikipedia_network, k_shell_values, 'k_shell')\n",
        "\n",
        "# Export the graph to GEXF format\n",
        "nx.write_gexf(wikipedia_network, \"wikipedia_network.gexf\")\n",
        "\n",
        "# Download the GEXF file to your local machine\n",
        "from google.colab import files\n",
        "files.download(gexf_filename)\n"
      ],
      "metadata": {
        "id": "8XG8LvNkRp7y"
      },
      "execution_count": null,
      "outputs": []
    }
  ]
}